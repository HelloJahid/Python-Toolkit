{
 "cells": [
  {
   "cell_type": "code",
   "execution_count": 1,
   "metadata": {},
   "outputs": [],
   "source": [
    "# import pandas library\n",
    "import pandas as pd\n"
   ]
  },
  {
   "cell_type": "code",
   "execution_count": 2,
   "metadata": {},
   "outputs": [],
   "source": [
    "# creating data \n",
    "raw_data = {'team': ['kiddies', 'kiddies', 'kiddies', 'kiddies', 'FireDogs', 'FireDogs', 'FireDogs', 'FireDogs', 'Mambaas', 'Mambaas', 'Mambaas', 'Mambaas'], \n",
    "        'company': ['1st', '1st', '2nd', '2nd', '1st', '1st', '2nd', '2nd','1st', '1st', '2nd', '2nd'], \n",
    "        'Lastname': ['Miller', 'Jackson', 'Smith', 'Williams', 'West', 'Jack', 'Ryaner', 'Stone', 'Sloan', 'Piper', 'Roesewood', 'Petaway'], \n",
    "        'preTestScore': [4, 24, 31, 2, 3, 4, 24, 31, 2, 3, 2, 3],\n",
    "        'postTestScore': [25, 94, 57, 62, 70, 25, 94, 57, 62, 70, 62, 70]}\n"
   ]
  },
  {
   "cell_type": "code",
   "execution_count": 3,
   "metadata": {},
   "outputs": [
    {
     "data": {
      "text/html": [
       "<div>\n",
       "<style scoped>\n",
       "    .dataframe tbody tr th:only-of-type {\n",
       "        vertical-align: middle;\n",
       "    }\n",
       "\n",
       "    .dataframe tbody tr th {\n",
       "        vertical-align: top;\n",
       "    }\n",
       "\n",
       "    .dataframe thead th {\n",
       "        text-align: right;\n",
       "    }\n",
       "</style>\n",
       "<table border=\"1\" class=\"dataframe\">\n",
       "  <thead>\n",
       "    <tr style=\"text-align: right;\">\n",
       "      <th></th>\n",
       "      <th>team</th>\n",
       "      <th>company</th>\n",
       "      <th>Lastname</th>\n",
       "      <th>preTestScore</th>\n",
       "      <th>postTestScore</th>\n",
       "    </tr>\n",
       "  </thead>\n",
       "  <tbody>\n",
       "    <tr>\n",
       "      <th>0</th>\n",
       "      <td>kiddies</td>\n",
       "      <td>1st</td>\n",
       "      <td>Miller</td>\n",
       "      <td>4</td>\n",
       "      <td>25</td>\n",
       "    </tr>\n",
       "    <tr>\n",
       "      <th>1</th>\n",
       "      <td>kiddies</td>\n",
       "      <td>1st</td>\n",
       "      <td>Jackson</td>\n",
       "      <td>24</td>\n",
       "      <td>94</td>\n",
       "    </tr>\n",
       "    <tr>\n",
       "      <th>2</th>\n",
       "      <td>kiddies</td>\n",
       "      <td>2nd</td>\n",
       "      <td>Smith</td>\n",
       "      <td>31</td>\n",
       "      <td>57</td>\n",
       "    </tr>\n",
       "    <tr>\n",
       "      <th>3</th>\n",
       "      <td>kiddies</td>\n",
       "      <td>2nd</td>\n",
       "      <td>Williams</td>\n",
       "      <td>2</td>\n",
       "      <td>62</td>\n",
       "    </tr>\n",
       "    <tr>\n",
       "      <th>4</th>\n",
       "      <td>FireDogs</td>\n",
       "      <td>1st</td>\n",
       "      <td>West</td>\n",
       "      <td>3</td>\n",
       "      <td>70</td>\n",
       "    </tr>\n",
       "    <tr>\n",
       "      <th>5</th>\n",
       "      <td>FireDogs</td>\n",
       "      <td>1st</td>\n",
       "      <td>Jack</td>\n",
       "      <td>4</td>\n",
       "      <td>25</td>\n",
       "    </tr>\n",
       "    <tr>\n",
       "      <th>6</th>\n",
       "      <td>FireDogs</td>\n",
       "      <td>2nd</td>\n",
       "      <td>Ryaner</td>\n",
       "      <td>24</td>\n",
       "      <td>94</td>\n",
       "    </tr>\n",
       "    <tr>\n",
       "      <th>7</th>\n",
       "      <td>FireDogs</td>\n",
       "      <td>2nd</td>\n",
       "      <td>Stone</td>\n",
       "      <td>31</td>\n",
       "      <td>57</td>\n",
       "    </tr>\n",
       "    <tr>\n",
       "      <th>8</th>\n",
       "      <td>Mambaas</td>\n",
       "      <td>1st</td>\n",
       "      <td>Sloan</td>\n",
       "      <td>2</td>\n",
       "      <td>62</td>\n",
       "    </tr>\n",
       "    <tr>\n",
       "      <th>9</th>\n",
       "      <td>Mambaas</td>\n",
       "      <td>1st</td>\n",
       "      <td>Piper</td>\n",
       "      <td>3</td>\n",
       "      <td>70</td>\n",
       "    </tr>\n",
       "    <tr>\n",
       "      <th>10</th>\n",
       "      <td>Mambaas</td>\n",
       "      <td>2nd</td>\n",
       "      <td>Roesewood</td>\n",
       "      <td>2</td>\n",
       "      <td>62</td>\n",
       "    </tr>\n",
       "    <tr>\n",
       "      <th>11</th>\n",
       "      <td>Mambaas</td>\n",
       "      <td>2nd</td>\n",
       "      <td>Petaway</td>\n",
       "      <td>3</td>\n",
       "      <td>70</td>\n",
       "    </tr>\n",
       "  </tbody>\n",
       "</table>\n",
       "</div>"
      ],
      "text/plain": [
       "        team company   Lastname  preTestScore  postTestScore\n",
       "0    kiddies     1st     Miller             4             25\n",
       "1    kiddies     1st    Jackson            24             94\n",
       "2    kiddies     2nd      Smith            31             57\n",
       "3    kiddies     2nd   Williams             2             62\n",
       "4   FireDogs     1st       West             3             70\n",
       "5   FireDogs     1st       Jack             4             25\n",
       "6   FireDogs     2nd     Ryaner            24             94\n",
       "7   FireDogs     2nd      Stone            31             57\n",
       "8    Mambaas     1st      Sloan             2             62\n",
       "9    Mambaas     1st      Piper             3             70\n",
       "10   Mambaas     2nd  Roesewood             2             62\n",
       "11   Mambaas     2nd    Petaway             3             70"
      ]
     },
     "execution_count": 3,
     "metadata": {},
     "output_type": "execute_result"
    }
   ],
   "source": [
    "df = pd.DataFrame(raw_data, columns = ['team', 'company', 'Lastname', 'preTestScore', 'postTestScore'])\n",
    "df"
   ]
  },
  {
   "cell_type": "code",
   "execution_count": 10,
   "metadata": {},
   "outputs": [
    {
     "data": {
      "text/plain": [
       "[('FireDogs',    preTestScore\n",
       "  4             3\n",
       "  5             4\n",
       "  6            24\n",
       "  7            31), ('Mambaas',     preTestScore\n",
       "  8              2\n",
       "  9              3\n",
       "  10             2\n",
       "  11             3), ('kiddies',    preTestScore\n",
       "  0             4\n",
       "  1            24\n",
       "  2            31\n",
       "  3             2)]"
      ]
     },
     "execution_count": 10,
     "metadata": {},
     "output_type": "execute_result"
    }
   ],
   "source": [
    "# preTestScore group by team name\n",
    "team = df[['preTestScore']].groupby(df['team'])\n",
    "list(team)"
   ]
  },
  {
   "cell_type": "code",
   "execution_count": 20,
   "metadata": {},
   "outputs": [
    {
     "data": {
      "text/html": [
       "<div>\n",
       "<style scoped>\n",
       "    .dataframe tbody tr th:only-of-type {\n",
       "        vertical-align: middle;\n",
       "    }\n",
       "\n",
       "    .dataframe tbody tr th {\n",
       "        vertical-align: top;\n",
       "    }\n",
       "\n",
       "    .dataframe thead tr th {\n",
       "        text-align: left;\n",
       "    }\n",
       "\n",
       "    .dataframe thead tr:last-of-type th {\n",
       "        text-align: right;\n",
       "    }\n",
       "</style>\n",
       "<table border=\"1\" class=\"dataframe\">\n",
       "  <thead>\n",
       "    <tr>\n",
       "      <th></th>\n",
       "      <th colspan=\"8\" halign=\"left\">preTestScore</th>\n",
       "    </tr>\n",
       "    <tr>\n",
       "      <th></th>\n",
       "      <th>count</th>\n",
       "      <th>mean</th>\n",
       "      <th>std</th>\n",
       "      <th>min</th>\n",
       "      <th>25%</th>\n",
       "      <th>50%</th>\n",
       "      <th>75%</th>\n",
       "      <th>max</th>\n",
       "    </tr>\n",
       "    <tr>\n",
       "      <th>team</th>\n",
       "      <th></th>\n",
       "      <th></th>\n",
       "      <th></th>\n",
       "      <th></th>\n",
       "      <th></th>\n",
       "      <th></th>\n",
       "      <th></th>\n",
       "      <th></th>\n",
       "    </tr>\n",
       "  </thead>\n",
       "  <tbody>\n",
       "    <tr>\n",
       "      <th>FireDogs</th>\n",
       "      <td>4.0</td>\n",
       "      <td>15.50</td>\n",
       "      <td>14.153916</td>\n",
       "      <td>3.0</td>\n",
       "      <td>3.75</td>\n",
       "      <td>14.0</td>\n",
       "      <td>25.75</td>\n",
       "      <td>31.0</td>\n",
       "    </tr>\n",
       "    <tr>\n",
       "      <th>Mambaas</th>\n",
       "      <td>4.0</td>\n",
       "      <td>2.50</td>\n",
       "      <td>0.577350</td>\n",
       "      <td>2.0</td>\n",
       "      <td>2.00</td>\n",
       "      <td>2.5</td>\n",
       "      <td>3.00</td>\n",
       "      <td>3.0</td>\n",
       "    </tr>\n",
       "    <tr>\n",
       "      <th>kiddies</th>\n",
       "      <td>4.0</td>\n",
       "      <td>15.25</td>\n",
       "      <td>14.453950</td>\n",
       "      <td>2.0</td>\n",
       "      <td>3.50</td>\n",
       "      <td>14.0</td>\n",
       "      <td>25.75</td>\n",
       "      <td>31.0</td>\n",
       "    </tr>\n",
       "  </tbody>\n",
       "</table>\n",
       "</div>"
      ],
      "text/plain": [
       "         preTestScore                                                \n",
       "                count   mean        std  min   25%   50%    75%   max\n",
       "team                                                                 \n",
       "FireDogs          4.0  15.50  14.153916  3.0  3.75  14.0  25.75  31.0\n",
       "Mambaas           4.0   2.50   0.577350  2.0  2.00   2.5   3.00   3.0\n",
       "kiddies           4.0  15.25  14.453950  2.0  3.50  14.0  25.75  31.0"
      ]
     },
     "execution_count": 20,
     "metadata": {},
     "output_type": "execute_result"
    }
   ],
   "source": [
    "# preTestScore group by team name\n",
    "team = df[['preTestScore']].groupby(df['team']).describe()\n",
    "team"
   ]
  },
  {
   "cell_type": "code",
   "execution_count": 21,
   "metadata": {},
   "outputs": [
    {
     "data": {
      "text/plain": [
       "[(('FireDogs', '1st'),    preTestScore\n",
       "  4             3\n",
       "  5             4), (('FireDogs', '2nd'),    preTestScore\n",
       "  6            24\n",
       "  7            31), (('Mambaas', '1st'),    preTestScore\n",
       "  8             2\n",
       "  9             3), (('Mambaas', '2nd'),     preTestScore\n",
       "  10             2\n",
       "  11             3), (('kiddies', '1st'),    preTestScore\n",
       "  0             4\n",
       "  1            24), (('kiddies', '2nd'),    preTestScore\n",
       "  2            31\n",
       "  3             2)]"
      ]
     },
     "execution_count": 21,
     "metadata": {},
     "output_type": "execute_result"
    }
   ],
   "source": [
    "# preTestScore group by team name and company\n",
    "team = df[['preTestScore']].groupby([df['team'], df['company']])\n",
    "list(team)"
   ]
  },
  {
   "cell_type": "code",
   "execution_count": 22,
   "metadata": {},
   "outputs": [
    {
     "data": {
      "text/plain": [
       "team      company\n",
       "FireDogs  1st        2\n",
       "          2nd        2\n",
       "Mambaas   1st        2\n",
       "          2nd        2\n",
       "kiddies   1st        2\n",
       "          2nd        2\n",
       "dtype: int64"
      ]
     },
     "execution_count": 22,
     "metadata": {},
     "output_type": "execute_result"
    }
   ],
   "source": [
    "#In this line of code we are listing the number observations (row) in each team and company. \n",
    "df.groupby(['team', 'company']).size()"
   ]
  },
  {
   "cell_type": "code",
   "execution_count": 27,
   "metadata": {},
   "outputs": [
    {
     "data": {
      "text/plain": [
       "[('FireDogs',        team company Lastname  preTestScore  postTestScore\n",
       "  4  FireDogs     1st     West             3             70\n",
       "  5  FireDogs     1st     Jack             4             25\n",
       "  6  FireDogs     2nd   Ryaner            24             94\n",
       "  7  FireDogs     2nd    Stone            31             57),\n",
       " ('Mambaas',        team company   Lastname  preTestScore  postTestScore\n",
       "  8   Mambaas     1st      Sloan             2             62\n",
       "  9   Mambaas     1st      Piper             3             70\n",
       "  10  Mambaas     2nd  Roesewood             2             62\n",
       "  11  Mambaas     2nd    Petaway             3             70),\n",
       " ('kiddies',       team company  Lastname  preTestScore  postTestScore\n",
       "  0  kiddies     1st    Miller             4             25\n",
       "  1  kiddies     1st   Jackson            24             94\n",
       "  2  kiddies     2nd     Smith            31             57\n",
       "  3  kiddies     2nd  Williams             2             62)]"
      ]
     },
     "execution_count": 27,
     "metadata": {},
     "output_type": "execute_result"
    }
   ],
   "source": [
    "gg = df.groupby('team')\n",
    "list(gg)"
   ]
  },
  {
   "cell_type": "code",
   "execution_count": 31,
   "metadata": {},
   "outputs": [
    {
     "name": "stdout",
     "output_type": "stream",
     "text": [
      "FireDogs\n",
      "       team company Lastname  preTestScore  postTestScore\n",
      "4  FireDogs     1st     West             3             70\n",
      "5  FireDogs     1st     Jack             4             25\n",
      "6  FireDogs     2nd   Ryaner            24             94\n",
      "7  FireDogs     2nd    Stone            31             57\n",
      "Mambaas\n",
      "       team company   Lastname  preTestScore  postTestScore\n",
      "8   Mambaas     1st      Sloan             2             62\n",
      "9   Mambaas     1st      Piper             3             70\n",
      "10  Mambaas     2nd  Roesewood             2             62\n",
      "11  Mambaas     2nd    Petaway             3             70\n",
      "kiddies\n",
      "      team company  Lastname  preTestScore  postTestScore\n",
      "0  kiddies     1st    Miller             4             25\n",
      "1  kiddies     1st   Jackson            24             94\n",
      "2  kiddies     2nd     Smith            31             57\n",
      "3  kiddies     2nd  Williams             2             62\n"
     ]
    }
   ],
   "source": [
    "# Lastly, let's group the dataframe by team, for each team. \n",
    "for name, group in df.groupby('team'): \n",
    "    # print the name of the team\n",
    "    print(name)\n",
    "    # print the data of that team\n",
    "    print(group)\n",
    "\n",
    "\n",
    "\n"
   ]
  },
  {
   "cell_type": "code",
   "execution_count": null,
   "metadata": {},
   "outputs": [],
   "source": []
  }
 ],
 "metadata": {
  "kernelspec": {
   "display_name": "Python 3",
   "language": "python",
   "name": "python3"
  },
  "language_info": {
   "codemirror_mode": {
    "name": "ipython",
    "version": 3
   },
   "file_extension": ".py",
   "mimetype": "text/x-python",
   "name": "python",
   "nbconvert_exporter": "python",
   "pygments_lexer": "ipython3",
   "version": "3.6.8"
  }
 },
 "nbformat": 4,
 "nbformat_minor": 2
}
